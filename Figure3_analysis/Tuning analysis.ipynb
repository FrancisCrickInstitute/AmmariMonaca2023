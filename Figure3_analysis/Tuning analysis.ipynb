{
 "cells": [
  {
   "cell_type": "markdown",
   "metadata": {},
   "source": [
    "# Importing"
   ]
  },
  {
   "cell_type": "code",
   "execution_count": 10,
   "metadata": {},
   "outputs": [
    {
     "name": "stdout",
     "output_type": "stream",
     "text": [
      "Requirement already satisfied: path in /Users/caom/anaconda3/lib/python3.10/site-packages (16.6.0)\n"
     ]
    }
   ],
   "source": [
    "import numpy as np\n",
    "import pandas as pd\n",
    "import itertools as it\n",
    "import statsmodels.api as sm\n",
    "import statsmodels.formula.api as smf\n",
    "from  matplotlib.colors import LinearSegmentedColormap\n",
    "import scipy.cluster.hierarchy as sch\n",
    "\n",
    "from matplotlib import pyplot as plt\n",
    "from matplotlib.ticker import MaxNLocator\n",
    "from mpl_toolkits.mplot3d import Axes3D\n",
    "import seaborn as sns\n",
    "\n",
    "import scipy.stats as stats\n",
    "\n",
    "import GRIN_analysis_tools as ga\n",
    "from path import Path\n",
    "import warnings\n",
    "from warnings import warn\n",
    "from collections import OrderedDict\n",
    "from sklearn.preprocessing import minmax_scale, scale\n",
    "from scipy.integrate import simps\n",
    "from numpy import trapz\n",
    "from sklearn.metrics import auc\n",
    "import warnings\n",
    "warnings.filterwarnings('ignore')"
   ]
  },
  {
   "cell_type": "code",
   "execution_count": 11,
   "id": "06529077",
   "metadata": {},
   "outputs": [],
   "source": [
    "path = 'dataset/'\n",
    "# export_path = '/Volumes/lab-kohlj/home/shared/projects/pregnancy_2021/Figure_4/linked_figure_4/' \n",
    "export_path = 'output_figures/' "
   ]
  },
  {
   "cell_type": "markdown",
   "metadata": {
    "jp-MarkdownHeadingCollapsed": true,
    "tags": []
   },
   "source": [
    "# Tuning analysis"
   ]
  },
  {
   "cell_type": "markdown",
   "metadata": {
    "jp-MarkdownHeadingCollapsed": true,
    "tags": []
   },
   "source": [
    "## Amount of behavioural data effect on tuning analysis"
   ]
  },
  {
   "cell_type": "code",
   "execution_count": 7,
   "metadata": {
    "tags": []
   },
   "outputs": [],
   "source": [
    "path = 'dataset/'\n",
    "\n",
    "ID = 'JKAA40.4h'\n",
    "state = 'PD18'\n",
    "behav = 'retrieval to nest'\n",
    "convolve = 'non_convolved'\n",
    "fr = 10 # Inscopix framerate\n",
    "window = 5 # Temporal window around each behavioural episode to analyse (in seconds)\n",
    "\n",
    "# Load calcium and behavioural data\n",
    "df = ga.load_inscopix(path + f'{ID}/{convolve}/{ID}_registered_{state}'+'.csv', normalisation='fixed interval')\n",
    "\n",
    "_, bdf, _ = ga.preprocess_behaviour(path + f'{ID}/{ID}_behav_{state}_post.csv', df.shape[1])\n",
    "\n",
    "# Keep only valid behaviours\n",
    "behavs = bdf.columns[bdf.columns != 'invalid']\n",
    "bdf = bdf[behavs]\n",
    "\n",
    "# Extract and normalise behavioural episodes\n",
    "episodes = ga.extract_behav_episodes(df, bdf, behav, window)\n",
    "episodes = ga.behaviour_episode_zscore(episodes, [0, window * fr])\n",
    "num_episodes = episodes.shape[0]\n",
    "\n",
    "# Estimate tuning based on random subsets of behavioural episodes of varying sizes\n",
    "subset_tuning = np.zeros((episodes.shape[:2])) * np.nan\n",
    "for i in range(1, num_episodes):\n",
    "    \n",
    "    subset = np.random.choice(np.arange(num_episodes), i, replace = False)\n",
    "    subset = episodes[subset]\n",
    "    \n",
    "    aucs = ga.episode_based_tuning(subset)\n",
    "    \n",
    "    subset_tuning[i] = aucs\n",
    "    \n",
    "    "
   ]
  },
  {
   "cell_type": "code",
   "execution_count": 8,
   "metadata": {
    "tags": []
   },
   "outputs": [
    {
     "data": {
      "text/plain": [
       "[<matplotlib.lines.Line2D at 0x7fdcdab7f650>]"
      ]
     },
     "execution_count": 8,
     "metadata": {},
     "output_type": "execute_result"
    },
    {
     "data": {
      "image/png": "[encoded data removed]",
      "text/plain": [
       "<Figure size 432x288 with 1 Axes>"
      ]
     },
     "metadata": {
      "needs_background": "light"
     },
     "output_type": "display_data"
    }
   ],
   "source": [
    "cell_n = 3\n",
    "\n",
    "cell = subset_tuning[:,cell_n]\n",
    "\n",
    "plt.axhline(np.mean(subset_tuning[-10:,cell_n]), c='r', linestyle='--')\n",
    "plt.plot(cell)"
   ]
  },
  {
   "cell_type": "code",
   "execution_count": 9,
   "metadata": {},
   "outputs": [
    {
     "name": "stdout",
     "output_type": "stream",
     "text": [
      "41707\n"
     ]
    }
   ],
   "source": [
    "print(df.shape[1])"
   ]
  },
  {
   "cell_type": "markdown",
   "metadata": {
    "jp-MarkdownHeadingCollapsed": true,
    "tags": []
   },
   "source": [
    "## Tuning calculation"
   ]
  },
  {
   "cell_type": "code",
   "execution_count": 10,
   "metadata": {
    "scrolled": true,
    "tags": []
   },
   "outputs": [
    {
     "name": "stdout",
     "output_type": "stream",
     "text": [
      "JKAA40.3e\n",
      "JKAA40.4i\n",
      "JKAA40.4h\n",
      "JKAA40.5d\n",
      "JKAA44.2i\n",
      "JKAA40.3e\n",
      "JKAA40.4i\n",
      "JKAA40.4h\n",
      "JKAA40.5d\n",
      "JKAA44.2i\n"
     ]
    }
   ],
   "source": [
    "# Path to calcium and behaviour recordings\n",
    "path = 'dataset/'\n",
    "\n",
    "# Experimental conditions\n",
    "states = ['virgin', 'PD18']\n",
    "\n",
    "# Analysis parameters\n",
    "\n",
    "IDs = ['JKAA40.3e', 'JKAA40.4i','JKAA40.4h', 'JKAA40.5d', 'JKAA44.2i']\n",
    "\n",
    "window = 4\n",
    "average_estimates = False\n",
    "num_episodes = 5\n",
    "untuned_boundary = 0.25\n",
    "tuned_boundary = 0.7\n",
    "convolve = 'non_convolved'\n",
    "# The number of behavioural episodes used to estimate tuning per behaviour type\n",
    "num_episodes = {'pup sniff':1,\n",
    "                'pup groom':1,\n",
    "                'retrieval to nest': 1,\n",
    "                'female nest contact':1,\n",
    "                'male intruder contact':1,\n",
    "                'female intruder contact': 1,\n",
    "                'male anogenital sniff':1,\n",
    "                'female anogenital sniff':1,\n",
    "                'food pellet contact': 1,\n",
    "                'screw contact':1}\n",
    "\n",
    "# Defining output variables\n",
    "tuning_results = pd.DataFrame(columns = ['State', 'Behaviour', 'Mouse', 'Cell', 'Tuning'])\n",
    "\n",
    "# Calculating tuning for all recordings\n",
    "for state in states:\n",
    "\n",
    "\n",
    "    for ID in IDs:\n",
    "        print(ID)\n",
    "\n",
    "        df = ga.load_inscopix(path + f'{ID}/{convolve}/{ID}_registered_{state}'+'.csv', normalisation='fixed interval')\n",
    "        try:\n",
    "            aucs = ga.analyse_recording_episodewise(path, \n",
    "                                                    state,\n",
    "                                                    ID, \n",
    "                                                    convolve,\n",
    "                                                    window = window, \n",
    "                                                    num_episodes = num_episodes,\n",
    "                                                    skip_overlap = False,\n",
    "                                                    plotting = False)\n",
    " \n",
    "            proportions = ga.tuning_proportions(aucs, untuned_boundary = untuned_boundary, tuned_boundary = tuned_boundary)\n",
    "\n",
    "            num_cells = aucs.shape[0]\n",
    "\n",
    "            # Packing recording results into a global output variable\n",
    "            for behav in aucs.columns:\n",
    "                recording = {}\n",
    "\n",
    "                recording['State'] = [state] * num_cells\n",
    "                recording['Behaviour'] = [behav] * num_cells\n",
    "                recording['IDs'] = [ID] * num_cells\n",
    "                recording['Mouse'] = [f'{ID}'] * num_cells\n",
    "                recording['Cell'] = np.arange(num_cells)\n",
    "                recording['Tuning'] = aucs[behav]\n",
    "                recording['Mean tuning'] = [aucs[behav].mean()] * num_cells\n",
    "                recording['Positive'] = [proportions[behav][0]] * num_cells\n",
    "                recording['Untuned'] = [proportions[behav][1]] * num_cells\n",
    "                recording['Negative'] = [proportions[behav][2]] * num_cells\n",
    "\n",
    "                recording = pd.DataFrame(recording)\n",
    "                tuning_results = pd.concat([tuning_results, recording])\n",
    "\n",
    "        except ValueError:\n",
    "            warnings.warn(f'Recording {ID}_{state} does not have any {behav} episode')\n",
    "\n",
    "proportion_results = tuning_results.drop(columns=['Tuning', 'Cell']).drop_duplicates()                "
   ]
  },
  {
   "cell_type": "code",
   "execution_count": 11,
   "metadata": {},
   "outputs": [],
   "source": [
    "tuning_results.to_csv('generated_dataset/tuning_results.csv')"
   ]
  },
  {
   "cell_type": "markdown",
   "metadata": {},
   "source": [
    "## Tuning distributions"
   ]
  },
  {
   "cell_type": "code",
   "execution_count": 12,
   "metadata": {},
   "outputs": [],
   "source": [
    "num_episodes = {'pup sniff':1,\n",
    "                'pup groom':1,\n",
    "                'retrieval to nest': 1,\n",
    "                'female nest contact':1,\n",
    "                'male intruder contact':1,\n",
    "                'female intruder contact': 1,\n",
    "                'male anogenital sniff':1,\n",
    "                'female anogenital sniff':1,\n",
    "                'food pellet contact': 1,\n",
    "                'screw contact':1}"
   ]
  },
  {
   "cell_type": "code",
   "execution_count": 13,
   "metadata": {
    "tags": []
   },
   "outputs": [
    {
     "ename": "LinAlgError",
     "evalue": "Singular matrix",
     "output_type": "error",
     "traceback": [
      "\u001b[0;31m---------------------------------------------------------------------------\u001b[0m",
      "\u001b[0;31mLinAlgError\u001b[0m                               Traceback (most recent call last)",
      "\u001b[0;32m<ipython-input-13-073f2aed523f>\u001b[0m in \u001b[0;36m<module>\u001b[0;34m\u001b[0m\n\u001b[1;32m     17\u001b[0m     \u001b[0;31m# compute statistics per behaviour\u001b[0m\u001b[0;34m\u001b[0m\u001b[0;34m\u001b[0m\u001b[0;34m\u001b[0m\u001b[0m\n\u001b[1;32m     18\u001b[0m     \u001b[0mmd\u001b[0m \u001b[0;34m=\u001b[0m \u001b[0msmf\u001b[0m\u001b[0;34m.\u001b[0m\u001b[0mmixedlm\u001b[0m\u001b[0;34m(\u001b[0m\u001b[0;34m\"Tuning ~ State\"\u001b[0m\u001b[0;34m,\u001b[0m \u001b[0msubset\u001b[0m\u001b[0;34m,\u001b[0m \u001b[0mgroups\u001b[0m\u001b[0;34m=\u001b[0m\u001b[0msubset\u001b[0m\u001b[0;34m[\u001b[0m\u001b[0;34m\"Mouse\"\u001b[0m\u001b[0;34m]\u001b[0m\u001b[0;34m)\u001b[0m\u001b[0;34m\u001b[0m\u001b[0;34m\u001b[0m\u001b[0m\n\u001b[0;32m---> 19\u001b[0;31m     \u001b[0mmdf\u001b[0m \u001b[0;34m=\u001b[0m \u001b[0mmd\u001b[0m\u001b[0;34m.\u001b[0m\u001b[0mfit\u001b[0m\u001b[0;34m(\u001b[0m\u001b[0mmethod\u001b[0m\u001b[0;34m=\u001b[0m\u001b[0;34m[\u001b[0m\u001b[0;34m\"lbfgs\"\u001b[0m\u001b[0;34m]\u001b[0m\u001b[0;34m)\u001b[0m\u001b[0;34m\u001b[0m\u001b[0;34m\u001b[0m\u001b[0m\n\u001b[0m\u001b[1;32m     20\u001b[0m     \u001b[0mprint\u001b[0m\u001b[0;34m(\u001b[0m\u001b[0mmdf\u001b[0m\u001b[0;34m.\u001b[0m\u001b[0msummary\u001b[0m\u001b[0;34m(\u001b[0m\u001b[0;34m)\u001b[0m\u001b[0;34m)\u001b[0m\u001b[0;34m\u001b[0m\u001b[0;34m\u001b[0m\u001b[0m\n\u001b[1;32m     21\u001b[0m \u001b[0;34m\u001b[0m\u001b[0m\n",
      "\u001b[0;32m~/opt/anaconda3/lib/python3.7/site-packages/statsmodels/regression/mixed_linear_model.py\u001b[0m in \u001b[0;36mfit\u001b[0;34m(self, start_params, reml, niter_sa, do_cg, fe_pen, cov_pen, free, full_output, method, **kwargs)\u001b[0m\n\u001b[1;32m   2104\u001b[0m                                                 \u001b[0mskip_hessian\u001b[0m\u001b[0;34m=\u001b[0m\u001b[0;32mTrue\u001b[0m\u001b[0;34m,\u001b[0m\u001b[0;34m\u001b[0m\u001b[0;34m\u001b[0m\u001b[0m\n\u001b[1;32m   2105\u001b[0m                                                 \u001b[0mmethod\u001b[0m\u001b[0;34m=\u001b[0m\u001b[0mmethod\u001b[0m\u001b[0;34m[\u001b[0m\u001b[0mj\u001b[0m\u001b[0;34m]\u001b[0m\u001b[0;34m,\u001b[0m\u001b[0;34m\u001b[0m\u001b[0;34m\u001b[0m\u001b[0m\n\u001b[0;32m-> 2106\u001b[0;31m                                                 **kwargs)\n\u001b[0m\u001b[1;32m   2107\u001b[0m                 \u001b[0;32mif\u001b[0m \u001b[0mrslt\u001b[0m\u001b[0;34m.\u001b[0m\u001b[0mmle_retvals\u001b[0m\u001b[0;34m[\u001b[0m\u001b[0;34m'converged'\u001b[0m\u001b[0;34m]\u001b[0m\u001b[0;34m:\u001b[0m\u001b[0;34m\u001b[0m\u001b[0;34m\u001b[0m\u001b[0m\n\u001b[1;32m   2108\u001b[0m                     \u001b[0;32mbreak\u001b[0m\u001b[0;34m\u001b[0m\u001b[0;34m\u001b[0m\u001b[0m\n",
      "\u001b[0;32m~/opt/anaconda3/lib/python3.7/site-packages/statsmodels/base/model.py\u001b[0m in \u001b[0;36mfit\u001b[0;34m(self, start_params, method, maxiter, full_output, disp, fargs, callback, retall, skip_hessian, **kwargs)\u001b[0m\n\u001b[1;32m    524\u001b[0m                                                        \u001b[0mcallback\u001b[0m\u001b[0;34m=\u001b[0m\u001b[0mcallback\u001b[0m\u001b[0;34m,\u001b[0m\u001b[0;34m\u001b[0m\u001b[0;34m\u001b[0m\u001b[0m\n\u001b[1;32m    525\u001b[0m                                                        \u001b[0mretall\u001b[0m\u001b[0;34m=\u001b[0m\u001b[0mretall\u001b[0m\u001b[0;34m,\u001b[0m\u001b[0;34m\u001b[0m\u001b[0;34m\u001b[0m\u001b[0m\n\u001b[0;32m--> 526\u001b[0;31m                                                        full_output=full_output)\n\u001b[0m\u001b[1;32m    527\u001b[0m \u001b[0;34m\u001b[0m\u001b[0m\n\u001b[1;32m    528\u001b[0m         \u001b[0;31m# NOTE: this is for fit_regularized and should be generalized\u001b[0m\u001b[0;34m\u001b[0m\u001b[0;34m\u001b[0m\u001b[0;34m\u001b[0m\u001b[0m\n",
      "\u001b[0;32m~/opt/anaconda3/lib/python3.7/site-packages/statsmodels/base/optimizer.py\u001b[0m in \u001b[0;36m_fit\u001b[0;34m(self, objective, gradient, start_params, fargs, kwargs, hessian, method, maxiter, full_output, disp, callback, retall)\u001b[0m\n\u001b[1;32m    216\u001b[0m                             \u001b[0mdisp\u001b[0m\u001b[0;34m=\u001b[0m\u001b[0mdisp\u001b[0m\u001b[0;34m,\u001b[0m \u001b[0mmaxiter\u001b[0m\u001b[0;34m=\u001b[0m\u001b[0mmaxiter\u001b[0m\u001b[0;34m,\u001b[0m \u001b[0mcallback\u001b[0m\u001b[0;34m=\u001b[0m\u001b[0mcallback\u001b[0m\u001b[0;34m,\u001b[0m\u001b[0;34m\u001b[0m\u001b[0;34m\u001b[0m\u001b[0m\n\u001b[1;32m    217\u001b[0m                             \u001b[0mretall\u001b[0m\u001b[0;34m=\u001b[0m\u001b[0mretall\u001b[0m\u001b[0;34m,\u001b[0m \u001b[0mfull_output\u001b[0m\u001b[0;34m=\u001b[0m\u001b[0mfull_output\u001b[0m\u001b[0;34m,\u001b[0m\u001b[0;34m\u001b[0m\u001b[0;34m\u001b[0m\u001b[0m\n\u001b[0;32m--> 218\u001b[0;31m                             hess=hessian)\n\u001b[0m\u001b[1;32m    219\u001b[0m \u001b[0;34m\u001b[0m\u001b[0m\n\u001b[1;32m    220\u001b[0m         optim_settings = {'optimizer': method, 'start_params': start_params,\n",
      "\u001b[0;32m~/opt/anaconda3/lib/python3.7/site-packages/statsmodels/base/optimizer.py\u001b[0m in \u001b[0;36m_fit_lbfgs\u001b[0;34m(f, score, start_params, fargs, kwargs, disp, maxiter, callback, retall, full_output, hess)\u001b[0m\n\u001b[1;32m    438\u001b[0m                                      \u001b[0mcallback\u001b[0m\u001b[0;34m=\u001b[0m\u001b[0mcallback\u001b[0m\u001b[0;34m,\u001b[0m \u001b[0margs\u001b[0m\u001b[0;34m=\u001b[0m\u001b[0mfargs\u001b[0m\u001b[0;34m,\u001b[0m\u001b[0;34m\u001b[0m\u001b[0;34m\u001b[0m\u001b[0m\n\u001b[1;32m    439\u001b[0m                                      \u001b[0mbounds\u001b[0m\u001b[0;34m=\u001b[0m\u001b[0mbounds\u001b[0m\u001b[0;34m,\u001b[0m \u001b[0mdisp\u001b[0m\u001b[0;34m=\u001b[0m\u001b[0mdisp\u001b[0m\u001b[0;34m,\u001b[0m\u001b[0;34m\u001b[0m\u001b[0;34m\u001b[0m\u001b[0m\n\u001b[0;32m--> 440\u001b[0;31m                                      **extra_kwargs)\n\u001b[0m\u001b[1;32m    441\u001b[0m \u001b[0;34m\u001b[0m\u001b[0m\n\u001b[1;32m    442\u001b[0m     \u001b[0;32mif\u001b[0m \u001b[0mfull_output\u001b[0m\u001b[0;34m:\u001b[0m\u001b[0;34m\u001b[0m\u001b[0;34m\u001b[0m\u001b[0m\n",
      "\u001b[0;32m~/opt/anaconda3/lib/python3.7/site-packages/scipy/optimize/lbfgsb.py\u001b[0m in \u001b[0;36mfmin_l_bfgs_b\u001b[0;34m(func, x0, fprime, args, approx_grad, bounds, m, factr, pgtol, epsilon, iprint, maxfun, maxiter, disp, callback, maxls)\u001b[0m\n\u001b[1;32m    196\u001b[0m \u001b[0;34m\u001b[0m\u001b[0m\n\u001b[1;32m    197\u001b[0m     res = _minimize_lbfgsb(fun, x0, args=args, jac=jac, bounds=bounds,\n\u001b[0;32m--> 198\u001b[0;31m                            **opts)\n\u001b[0m\u001b[1;32m    199\u001b[0m     d = {'grad': res['jac'],\n\u001b[1;32m    200\u001b[0m          \u001b[0;34m'task'\u001b[0m\u001b[0;34m:\u001b[0m \u001b[0mres\u001b[0m\u001b[0;34m[\u001b[0m\u001b[0;34m'message'\u001b[0m\u001b[0;34m]\u001b[0m\u001b[0;34m,\u001b[0m\u001b[0;34m\u001b[0m\u001b[0;34m\u001b[0m\u001b[0m\n",
      "\u001b[0;32m~/opt/anaconda3/lib/python3.7/site-packages/scipy/optimize/lbfgsb.py\u001b[0m in \u001b[0;36m_minimize_lbfgsb\u001b[0;34m(fun, x0, args, jac, bounds, disp, maxcor, ftol, gtol, eps, maxfun, maxiter, iprint, callback, maxls, finite_diff_rel_step, **unknown_options)\u001b[0m\n\u001b[1;32m    358\u001b[0m             \u001b[0;31m# until the completion of the current minimization iteration.\u001b[0m\u001b[0;34m\u001b[0m\u001b[0;34m\u001b[0m\u001b[0;34m\u001b[0m\u001b[0m\n\u001b[1;32m    359\u001b[0m             \u001b[0;31m# Overwrite f and g:\u001b[0m\u001b[0;34m\u001b[0m\u001b[0;34m\u001b[0m\u001b[0;34m\u001b[0m\u001b[0m\n\u001b[0;32m--> 360\u001b[0;31m             \u001b[0mf\u001b[0m\u001b[0;34m,\u001b[0m \u001b[0mg\u001b[0m \u001b[0;34m=\u001b[0m \u001b[0mfunc_and_grad\u001b[0m\u001b[0;34m(\u001b[0m\u001b[0mx\u001b[0m\u001b[0;34m)\u001b[0m\u001b[0;34m\u001b[0m\u001b[0;34m\u001b[0m\u001b[0m\n\u001b[0m\u001b[1;32m    361\u001b[0m         \u001b[0;32melif\u001b[0m \u001b[0mtask_str\u001b[0m\u001b[0;34m.\u001b[0m\u001b[0mstartswith\u001b[0m\u001b[0;34m(\u001b[0m\u001b[0;34mb'NEW_X'\u001b[0m\u001b[0;34m)\u001b[0m\u001b[0;34m:\u001b[0m\u001b[0;34m\u001b[0m\u001b[0;34m\u001b[0m\u001b[0m\n\u001b[1;32m    362\u001b[0m             \u001b[0;31m# new iteration\u001b[0m\u001b[0;34m\u001b[0m\u001b[0;34m\u001b[0m\u001b[0;34m\u001b[0m\u001b[0m\n",
      "\u001b[0;32m~/opt/anaconda3/lib/python3.7/site-packages/scipy/optimize/_differentiable_functions.py\u001b[0m in \u001b[0;36mfun_and_grad\u001b[0;34m(self, x)\u001b[0m\n\u001b[1;32m    265\u001b[0m         \u001b[0;32mif\u001b[0m \u001b[0;32mnot\u001b[0m \u001b[0mnp\u001b[0m\u001b[0;34m.\u001b[0m\u001b[0marray_equal\u001b[0m\u001b[0;34m(\u001b[0m\u001b[0mx\u001b[0m\u001b[0;34m,\u001b[0m \u001b[0mself\u001b[0m\u001b[0;34m.\u001b[0m\u001b[0mx\u001b[0m\u001b[0;34m)\u001b[0m\u001b[0;34m:\u001b[0m\u001b[0;34m\u001b[0m\u001b[0;34m\u001b[0m\u001b[0m\n\u001b[1;32m    266\u001b[0m             \u001b[0mself\u001b[0m\u001b[0;34m.\u001b[0m\u001b[0m_update_x_impl\u001b[0m\u001b[0;34m(\u001b[0m\u001b[0mx\u001b[0m\u001b[0;34m)\u001b[0m\u001b[0;34m\u001b[0m\u001b[0;34m\u001b[0m\u001b[0m\n\u001b[0;32m--> 267\u001b[0;31m         \u001b[0mself\u001b[0m\u001b[0;34m.\u001b[0m\u001b[0m_update_fun\u001b[0m\u001b[0;34m(\u001b[0m\u001b[0;34m)\u001b[0m\u001b[0;34m\u001b[0m\u001b[0;34m\u001b[0m\u001b[0m\n\u001b[0m\u001b[1;32m    268\u001b[0m         \u001b[0mself\u001b[0m\u001b[0;34m.\u001b[0m\u001b[0m_update_grad\u001b[0m\u001b[0;34m(\u001b[0m\u001b[0;34m)\u001b[0m\u001b[0;34m\u001b[0m\u001b[0;34m\u001b[0m\u001b[0m\n\u001b[1;32m    269\u001b[0m         \u001b[0;32mreturn\u001b[0m \u001b[0mself\u001b[0m\u001b[0;34m.\u001b[0m\u001b[0mf\u001b[0m\u001b[0;34m,\u001b[0m \u001b[0mself\u001b[0m\u001b[0;34m.\u001b[0m\u001b[0mg\u001b[0m\u001b[0;34m\u001b[0m\u001b[0;34m\u001b[0m\u001b[0m\n",
      "\u001b[0;32m~/opt/anaconda3/lib/python3.7/site-packages/scipy/optimize/_differentiable_functions.py\u001b[0m in \u001b[0;36m_update_fun\u001b[0;34m(self)\u001b[0m\n\u001b[1;32m    231\u001b[0m     \u001b[0;32mdef\u001b[0m \u001b[0m_update_fun\u001b[0m\u001b[0;34m(\u001b[0m\u001b[0mself\u001b[0m\u001b[0;34m)\u001b[0m\u001b[0;34m:\u001b[0m\u001b[0;34m\u001b[0m\u001b[0;34m\u001b[0m\u001b[0m\n\u001b[1;32m    232\u001b[0m         \u001b[0;32mif\u001b[0m \u001b[0;32mnot\u001b[0m \u001b[0mself\u001b[0m\u001b[0;34m.\u001b[0m\u001b[0mf_updated\u001b[0m\u001b[0;34m:\u001b[0m\u001b[0;34m\u001b[0m\u001b[0;34m\u001b[0m\u001b[0m\n\u001b[0;32m--> 233\u001b[0;31m             \u001b[0mself\u001b[0m\u001b[0;34m.\u001b[0m\u001b[0m_update_fun_impl\u001b[0m\u001b[0;34m(\u001b[0m\u001b[0;34m)\u001b[0m\u001b[0;34m\u001b[0m\u001b[0;34m\u001b[0m\u001b[0m\n\u001b[0m\u001b[1;32m    234\u001b[0m             \u001b[0mself\u001b[0m\u001b[0;34m.\u001b[0m\u001b[0mf_updated\u001b[0m \u001b[0;34m=\u001b[0m \u001b[0;32mTrue\u001b[0m\u001b[0;34m\u001b[0m\u001b[0;34m\u001b[0m\u001b[0m\n\u001b[1;32m    235\u001b[0m \u001b[0;34m\u001b[0m\u001b[0m\n",
      "\u001b[0;32m~/opt/anaconda3/lib/python3.7/site-packages/scipy/optimize/_differentiable_functions.py\u001b[0m in \u001b[0;36mupdate_fun\u001b[0;34m()\u001b[0m\n\u001b[1;32m    135\u001b[0m \u001b[0;34m\u001b[0m\u001b[0m\n\u001b[1;32m    136\u001b[0m         \u001b[0;32mdef\u001b[0m \u001b[0mupdate_fun\u001b[0m\u001b[0;34m(\u001b[0m\u001b[0;34m)\u001b[0m\u001b[0;34m:\u001b[0m\u001b[0;34m\u001b[0m\u001b[0;34m\u001b[0m\u001b[0m\n\u001b[0;32m--> 137\u001b[0;31m             \u001b[0mself\u001b[0m\u001b[0;34m.\u001b[0m\u001b[0mf\u001b[0m \u001b[0;34m=\u001b[0m \u001b[0mfun_wrapped\u001b[0m\u001b[0;34m(\u001b[0m\u001b[0mself\u001b[0m\u001b[0;34m.\u001b[0m\u001b[0mx\u001b[0m\u001b[0;34m)\u001b[0m\u001b[0;34m\u001b[0m\u001b[0;34m\u001b[0m\u001b[0m\n\u001b[0m\u001b[1;32m    138\u001b[0m \u001b[0;34m\u001b[0m\u001b[0m\n\u001b[1;32m    139\u001b[0m         \u001b[0mself\u001b[0m\u001b[0;34m.\u001b[0m\u001b[0m_update_fun_impl\u001b[0m \u001b[0;34m=\u001b[0m \u001b[0mupdate_fun\u001b[0m\u001b[0;34m\u001b[0m\u001b[0;34m\u001b[0m\u001b[0m\n",
      "\u001b[0;32m~/opt/anaconda3/lib/python3.7/site-packages/scipy/optimize/_differentiable_functions.py\u001b[0m in \u001b[0;36mfun_wrapped\u001b[0;34m(x)\u001b[0m\n\u001b[1;32m    132\u001b[0m             \u001b[0;31m# Overwriting results in undefined behaviour because\u001b[0m\u001b[0;34m\u001b[0m\u001b[0;34m\u001b[0m\u001b[0;34m\u001b[0m\u001b[0m\n\u001b[1;32m    133\u001b[0m             \u001b[0;31m# fun(self.x) will change self.x, with the two no longer linked.\u001b[0m\u001b[0;34m\u001b[0m\u001b[0;34m\u001b[0m\u001b[0;34m\u001b[0m\u001b[0m\n\u001b[0;32m--> 134\u001b[0;31m             \u001b[0;32mreturn\u001b[0m \u001b[0mfun\u001b[0m\u001b[0;34m(\u001b[0m\u001b[0mnp\u001b[0m\u001b[0;34m.\u001b[0m\u001b[0mcopy\u001b[0m\u001b[0;34m(\u001b[0m\u001b[0mx\u001b[0m\u001b[0;34m)\u001b[0m\u001b[0;34m,\u001b[0m \u001b[0;34m*\u001b[0m\u001b[0margs\u001b[0m\u001b[0;34m)\u001b[0m\u001b[0;34m\u001b[0m\u001b[0;34m\u001b[0m\u001b[0m\n\u001b[0m\u001b[1;32m    135\u001b[0m \u001b[0;34m\u001b[0m\u001b[0m\n\u001b[1;32m    136\u001b[0m         \u001b[0;32mdef\u001b[0m \u001b[0mupdate_fun\u001b[0m\u001b[0;34m(\u001b[0m\u001b[0;34m)\u001b[0m\u001b[0;34m:\u001b[0m\u001b[0;34m\u001b[0m\u001b[0;34m\u001b[0m\u001b[0m\n",
      "\u001b[0;32m~/opt/anaconda3/lib/python3.7/site-packages/statsmodels/base/model.py\u001b[0m in \u001b[0;36mf\u001b[0;34m(params, *args)\u001b[0m\n\u001b[1;32m    498\u001b[0m \u001b[0;34m\u001b[0m\u001b[0m\n\u001b[1;32m    499\u001b[0m         \u001b[0;32mdef\u001b[0m \u001b[0mf\u001b[0m\u001b[0;34m(\u001b[0m\u001b[0mparams\u001b[0m\u001b[0;34m,\u001b[0m \u001b[0;34m*\u001b[0m\u001b[0margs\u001b[0m\u001b[0;34m)\u001b[0m\u001b[0;34m:\u001b[0m\u001b[0;34m\u001b[0m\u001b[0;34m\u001b[0m\u001b[0m\n\u001b[0;32m--> 500\u001b[0;31m             \u001b[0;32mreturn\u001b[0m \u001b[0;34m-\u001b[0m\u001b[0mself\u001b[0m\u001b[0;34m.\u001b[0m\u001b[0mloglike\u001b[0m\u001b[0;34m(\u001b[0m\u001b[0mparams\u001b[0m\u001b[0;34m,\u001b[0m \u001b[0;34m*\u001b[0m\u001b[0margs\u001b[0m\u001b[0;34m)\u001b[0m \u001b[0;34m/\u001b[0m \u001b[0mnobs\u001b[0m\u001b[0;34m\u001b[0m\u001b[0;34m\u001b[0m\u001b[0m\n\u001b[0m\u001b[1;32m    501\u001b[0m \u001b[0;34m\u001b[0m\u001b[0m\n\u001b[1;32m    502\u001b[0m         \u001b[0;32mif\u001b[0m \u001b[0mmethod\u001b[0m \u001b[0;34m==\u001b[0m \u001b[0;34m'newton'\u001b[0m\u001b[0;34m:\u001b[0m\u001b[0;34m\u001b[0m\u001b[0;34m\u001b[0m\u001b[0m\n",
      "\u001b[0;32m~/opt/anaconda3/lib/python3.7/site-packages/statsmodels/regression/mixed_linear_model.py\u001b[0m in \u001b[0;36mloglike\u001b[0;34m(self, params, profile_fe)\u001b[0m\n\u001b[1;32m   1435\u001b[0m         \u001b[0;31m# Move to the profile set\u001b[0m\u001b[0;34m\u001b[0m\u001b[0;34m\u001b[0m\u001b[0;34m\u001b[0m\u001b[0m\n\u001b[1;32m   1436\u001b[0m         \u001b[0;32mif\u001b[0m \u001b[0mprofile_fe\u001b[0m\u001b[0;34m:\u001b[0m\u001b[0;34m\u001b[0m\u001b[0;34m\u001b[0m\u001b[0m\n\u001b[0;32m-> 1437\u001b[0;31m             \u001b[0mfe_params\u001b[0m \u001b[0;34m=\u001b[0m \u001b[0mself\u001b[0m\u001b[0;34m.\u001b[0m\u001b[0mget_fe_params\u001b[0m\u001b[0;34m(\u001b[0m\u001b[0mcov_re\u001b[0m\u001b[0;34m,\u001b[0m \u001b[0mvcomp\u001b[0m\u001b[0;34m)\u001b[0m\u001b[0;34m\u001b[0m\u001b[0;34m\u001b[0m\u001b[0m\n\u001b[0m\u001b[1;32m   1438\u001b[0m         \u001b[0;32melse\u001b[0m\u001b[0;34m:\u001b[0m\u001b[0;34m\u001b[0m\u001b[0;34m\u001b[0m\u001b[0m\n\u001b[1;32m   1439\u001b[0m             \u001b[0mfe_params\u001b[0m \u001b[0;34m=\u001b[0m \u001b[0mparams\u001b[0m\u001b[0;34m.\u001b[0m\u001b[0mfe_params\u001b[0m\u001b[0;34m\u001b[0m\u001b[0;34m\u001b[0m\u001b[0m\n",
      "\u001b[0;32m~/opt/anaconda3/lib/python3.7/site-packages/statsmodels/regression/mixed_linear_model.py\u001b[0m in \u001b[0;36mget_fe_params\u001b[0;34m(self, cov_re, vcomp)\u001b[0m\n\u001b[1;32m   1262\u001b[0m             \u001b[0mcov_re_inv\u001b[0m \u001b[0;34m=\u001b[0m \u001b[0mnp\u001b[0m\u001b[0;34m.\u001b[0m\u001b[0mempty\u001b[0m\u001b[0;34m(\u001b[0m\u001b[0;34m(\u001b[0m\u001b[0;36m0\u001b[0m\u001b[0;34m,\u001b[0m \u001b[0;36m0\u001b[0m\u001b[0;34m)\u001b[0m\u001b[0;34m)\u001b[0m\u001b[0;34m\u001b[0m\u001b[0;34m\u001b[0m\u001b[0m\n\u001b[1;32m   1263\u001b[0m         \u001b[0;32melse\u001b[0m\u001b[0;34m:\u001b[0m\u001b[0;34m\u001b[0m\u001b[0;34m\u001b[0m\u001b[0m\n\u001b[0;32m-> 1264\u001b[0;31m             \u001b[0mcov_re_inv\u001b[0m \u001b[0;34m=\u001b[0m \u001b[0mnp\u001b[0m\u001b[0;34m.\u001b[0m\u001b[0mlinalg\u001b[0m\u001b[0;34m.\u001b[0m\u001b[0minv\u001b[0m\u001b[0;34m(\u001b[0m\u001b[0mcov_re\u001b[0m\u001b[0;34m)\u001b[0m\u001b[0;34m\u001b[0m\u001b[0;34m\u001b[0m\u001b[0m\n\u001b[0m\u001b[1;32m   1265\u001b[0m \u001b[0;34m\u001b[0m\u001b[0m\n\u001b[1;32m   1266\u001b[0m         \u001b[0;31m# Cache these quantities that do not change.\u001b[0m\u001b[0;34m\u001b[0m\u001b[0;34m\u001b[0m\u001b[0;34m\u001b[0m\u001b[0m\n",
      "\u001b[0;32m<__array_function__ internals>\u001b[0m in \u001b[0;36minv\u001b[0;34m(*args, **kwargs)\u001b[0m\n",
      "\u001b[0;32m~/opt/anaconda3/lib/python3.7/site-packages/numpy/linalg/linalg.py\u001b[0m in \u001b[0;36minv\u001b[0;34m(a)\u001b[0m\n\u001b[1;32m    543\u001b[0m     \u001b[0msignature\u001b[0m \u001b[0;34m=\u001b[0m \u001b[0;34m'D->D'\u001b[0m \u001b[0;32mif\u001b[0m \u001b[0misComplexType\u001b[0m\u001b[0;34m(\u001b[0m\u001b[0mt\u001b[0m\u001b[0;34m)\u001b[0m \u001b[0;32melse\u001b[0m \u001b[0;34m'd->d'\u001b[0m\u001b[0;34m\u001b[0m\u001b[0;34m\u001b[0m\u001b[0m\n\u001b[1;32m    544\u001b[0m     \u001b[0mextobj\u001b[0m \u001b[0;34m=\u001b[0m \u001b[0mget_linalg_error_extobj\u001b[0m\u001b[0;34m(\u001b[0m\u001b[0m_raise_linalgerror_singular\u001b[0m\u001b[0;34m)\u001b[0m\u001b[0;34m\u001b[0m\u001b[0;34m\u001b[0m\u001b[0m\n\u001b[0;32m--> 545\u001b[0;31m     \u001b[0mainv\u001b[0m \u001b[0;34m=\u001b[0m \u001b[0m_umath_linalg\u001b[0m\u001b[0;34m.\u001b[0m\u001b[0minv\u001b[0m\u001b[0;34m(\u001b[0m\u001b[0ma\u001b[0m\u001b[0;34m,\u001b[0m \u001b[0msignature\u001b[0m\u001b[0;34m=\u001b[0m\u001b[0msignature\u001b[0m\u001b[0;34m,\u001b[0m \u001b[0mextobj\u001b[0m\u001b[0;34m=\u001b[0m\u001b[0mextobj\u001b[0m\u001b[0;34m)\u001b[0m\u001b[0;34m\u001b[0m\u001b[0;34m\u001b[0m\u001b[0m\n\u001b[0m\u001b[1;32m    546\u001b[0m     \u001b[0;32mreturn\u001b[0m \u001b[0mwrap\u001b[0m\u001b[0;34m(\u001b[0m\u001b[0mainv\u001b[0m\u001b[0;34m.\u001b[0m\u001b[0mastype\u001b[0m\u001b[0;34m(\u001b[0m\u001b[0mresult_t\u001b[0m\u001b[0;34m,\u001b[0m \u001b[0mcopy\u001b[0m\u001b[0;34m=\u001b[0m\u001b[0;32mFalse\u001b[0m\u001b[0;34m)\u001b[0m\u001b[0;34m)\u001b[0m\u001b[0;34m\u001b[0m\u001b[0;34m\u001b[0m\u001b[0m\n\u001b[1;32m    547\u001b[0m \u001b[0;34m\u001b[0m\u001b[0m\n",
      "\u001b[0;32m~/opt/anaconda3/lib/python3.7/site-packages/numpy/linalg/linalg.py\u001b[0m in \u001b[0;36m_raise_linalgerror_singular\u001b[0;34m(err, flag)\u001b[0m\n\u001b[1;32m     86\u001b[0m \u001b[0;34m\u001b[0m\u001b[0m\n\u001b[1;32m     87\u001b[0m \u001b[0;32mdef\u001b[0m \u001b[0m_raise_linalgerror_singular\u001b[0m\u001b[0;34m(\u001b[0m\u001b[0merr\u001b[0m\u001b[0;34m,\u001b[0m \u001b[0mflag\u001b[0m\u001b[0;34m)\u001b[0m\u001b[0;34m:\u001b[0m\u001b[0;34m\u001b[0m\u001b[0;34m\u001b[0m\u001b[0m\n\u001b[0;32m---> 88\u001b[0;31m     \u001b[0;32mraise\u001b[0m \u001b[0mLinAlgError\u001b[0m\u001b[0;34m(\u001b[0m\u001b[0;34m\"Singular matrix\"\u001b[0m\u001b[0;34m)\u001b[0m\u001b[0;34m\u001b[0m\u001b[0;34m\u001b[0m\u001b[0m\n\u001b[0m\u001b[1;32m     89\u001b[0m \u001b[0;34m\u001b[0m\u001b[0m\n\u001b[1;32m     90\u001b[0m \u001b[0;32mdef\u001b[0m \u001b[0m_raise_linalgerror_nonposdef\u001b[0m\u001b[0;34m(\u001b[0m\u001b[0merr\u001b[0m\u001b[0;34m,\u001b[0m \u001b[0mflag\u001b[0m\u001b[0;34m)\u001b[0m\u001b[0;34m:\u001b[0m\u001b[0;34m\u001b[0m\u001b[0;34m\u001b[0m\u001b[0m\n",
      "\u001b[0;31mLinAlgError\u001b[0m: Singular matrix"
     ]
    }
   ],
   "source": [
    "conditions = list(num_episodes.keys())\n",
    "pdf_vs = []\n",
    "pdf_Ps = []\n",
    "\n",
    "\n",
    "skipped = 0\n",
    "for n, condition in enumerate(conditions):\n",
    "    behav_name = condition\n",
    "    \n",
    "    behav = np.array(tuning_results['Behaviour'] == behav_name).astype(int)\n",
    "\n",
    "    subset =  behav\n",
    "    subset = subset == 1\n",
    "    subset = tuning_results[subset]\n",
    "    subset = subset[['State', 'Mouse', 'Behaviour', 'Cell', 'Tuning', 'Positive']]\n",
    "    \n",
    "    # compute statistics per behaviour\n",
    "    md = smf.mixedlm(\"Tuning ~ State\", subset, groups=subset[\"Mouse\"])\n",
    "    mdf = md.fit(method=[\"lbfgs\"])\n",
    "    print(mdf.summary())\n",
    "        \n",
    "    try:\n",
    "        subset = subset.reset_index()\n",
    "        mean_v = subset[subset.State == 'virgin'].Positive.unique().mean()\n",
    "        mean_P = subset[subset.State == 'PD18'].Positive.unique().mean()\n",
    "\n",
    "        sns.set(font_scale=2) \n",
    "        sns.set_style(\"ticks\")\n",
    "        \n",
    "        plt.subplots(figsize=[4,4])\n",
    "\n",
    "        plt.hist(subset[subset.State == 'virgin'].Tuning, bins = 20, \n",
    "                 color = '#0E86D4',density = True, alpha = 0.3, histtype=\"stepfilled\")\n",
    "        plt.hist(subset[subset.State == 'PD18'].Tuning, bins = 20, \n",
    "                 color = '#d7301f',density = True, alpha = 0.3, histtype=\"stepfilled\")\n",
    "        \n",
    "        plt.axvline(mean_v, color = '#0E86D4',linewidth = 2,\n",
    "                    linestyle = 'dashed', alpha = 0.5)\n",
    "        plt.axvline(mean_P, color = '#d7301f', linewidth = 2,\n",
    "                    linestyle = 'dashed', alpha = 0.5)\n",
    "    \n",
    "        #plt.xlim([-1,1])\n",
    "        plt.ylabel('Norm. density')\n",
    "        plt.xlabel('Tuning index')\n",
    "        \n",
    "        plt.title(f'{behav_name}', pad=25)\n",
    "        ax = plt.gca()\n",
    "        ax.spines['right'].set_visible(False)\n",
    "        ax.spines['top'].set_visible(False)\n",
    "        \n",
    "       # plt.savefig(export_path + behav_name + '_density plot.pdf', dpi = 300, bbox_inches='tight')\n",
    "        plt.savefig(export_path + behav_name + '_density plot.png', dpi = 300, bbox_inches='tight')\n",
    " \n",
    "        if True:#n - skipped > 0:\n",
    "            plt.legend([],[], frameon=False)\n",
    "            plt.show()\n",
    "            \n",
    "            \n",
    "    except ValueError:\n",
    "        skipped += 1\n",
    "        continue"
   ]
  },
  {
   "cell_type": "markdown",
   "metadata": {},
   "source": [
    "## Tuning proportions"
   ]
  },
  {
   "cell_type": "code",
   "execution_count": null,
   "metadata": {
    "tags": []
   },
   "outputs": [],
   "source": [
    "behaviour = 'pup sniff' # retrieval to nest / pup sniff / pup groom\n",
    "direction = 'untuned' # --> this is purely for naming exported images (also change sign in y axis accordingly)\n",
    "\n",
    "behav = np.array(proportion_results['Behaviour'] == behaviour).astype(int)\n",
    "\n",
    "\n",
    "subset = behav\n",
    "subset = subset == 1\n",
    "subset = proportion_results[subset]\n",
    "subset['Tuned'] = subset['Positive'] + subset['Negative']\n",
    "pairplot_data = np.zeros((len(IDs), 2, 4)) * np.nan\n",
    "\n",
    "#compute paired percentage positive tuning statistics\n",
    "_, p = stats.ttest_rel(subset[subset.State == 'virgin'].Untuned, \n",
    "                      subset[subset.State == 'PD18'].Untuned)\n",
    "\n",
    "print(p)\n",
    "\n",
    "for n, ID in enumerate(IDs):\n",
    "    ID = subset[subset['IDs'] == ID]\n",
    "    if ID.shape[0] < 2:\n",
    "        continue\n",
    "    pairplot_data[n] = np.array(ID[['Positive', 'Untuned', 'Negative', 'Tuned']])\n",
    "subset.to_csv('generated_dataset/tuning_proportion.csv')"
   ]
  },
  {
   "cell_type": "code",
   "execution_count": null,
   "metadata": {
    "tags": []
   },
   "outputs": [],
   "source": [
    "sns.set(font_scale=2) \n",
    "sns.set_style(\"ticks\")\n",
    "plt.figure(figsize=[1,1.75])\n",
    "\n",
    "colors = {0: '#0E86D4',\n",
    "          1: '#d7301f'}\n",
    "line_colors = {0: 'black', 1: 'black', 2:'black'}\n",
    "\n",
    "# for tuning_type in range(3):\n",
    "    \n",
    "ax = ga.paired_data_lineplot(pairplot_data[:,:,1], #0 for positive, 1 for untuned, 2 for negative, 3 for tuned see above\n",
    "                            label = ['Untuned'][0],\n",
    "                            conditions = ['virgin', 'PD18'],\n",
    "                            marker_colors = colors,\n",
    "                            line_color = line_colors[0],\n",
    "                            ylabel = 'Fraction of\\nuntuned cells', line_width = 2)\n",
    "\n",
    "ax.set_xticklabels( ('Vir', 'D18'), rotation=45)\n",
    "ax.yaxis.set_major_locator(plt.MaxNLocator(2))\n",
    "sns.despine(bottom=True)\n",
    "plt.margins(x=0.2)\n",
    "plt.ylim(0, 1)\n",
    "plt.savefig(export_path + behaviour + '_'+ direction + '_tuning_index.pdf', dpi=300, transparent=True, bbox_inches = \"tight\")\n",
    "plt.savefig('output_figures/'+ behaviour + '_'+ direction + '_tuning_index.png', dpi=300, transparent=True, bbox_inches = \"tight\")"
   ]
  },
  {
   "cell_type": "markdown",
   "metadata": {},
   "source": [
    "# Selectivity analysis"
   ]
  },
  {
   "cell_type": "markdown",
   "metadata": {
    "jp-MarkdownHeadingCollapsed": true,
    "tags": []
   },
   "source": [
    "## Selectivity Index based on tuning"
   ]
  },
  {
   "cell_type": "code",
   "execution_count": 2,
   "metadata": {},
   "outputs": [
    {
     "ename": "NameError",
     "evalue": "name 'tuning_results' is not defined",
     "output_type": "error",
     "traceback": [
      "\u001b[0;31m---------------------------------------------------------------------------\u001b[0m",
      "\u001b[0;31mNameError\u001b[0m                                 Traceback (most recent call last)",
      "Cell \u001b[0;32mIn[2], line 1\u001b[0m\n\u001b[0;32m----> 1\u001b[0m \u001b[39mprint\u001b[39m(tuning_results[tuning_results\u001b[39m.\u001b[39mBehaviour \u001b[39m==\u001b[39m\u001b[39m'\u001b[39m\u001b[39mfemale nest contact\u001b[39m\u001b[39m'\u001b[39m]\u001b[39m.\u001b[39mMouse\u001b[39m.\u001b[39munique())\n\u001b[1;32m      2\u001b[0m IDs \u001b[39m=\u001b[39m [\u001b[39m'\u001b[39m\u001b[39mJKAA40.3e\u001b[39m\u001b[39m'\u001b[39m, \u001b[39m'\u001b[39m\u001b[39mJKAA40.4i\u001b[39m\u001b[39m'\u001b[39m,\u001b[39m'\u001b[39m\u001b[39mJKAA40.4h\u001b[39m\u001b[39m'\u001b[39m, \u001b[39m'\u001b[39m\u001b[39mJKAA40.5d\u001b[39m\u001b[39m'\u001b[39m, \u001b[39m'\u001b[39m\u001b[39mJKAA44.2i\u001b[39m\u001b[39m'\u001b[39m]\n\u001b[1;32m      3\u001b[0m behaviour_pair \u001b[39m=\u001b[39m [\u001b[39m'\u001b[39m\u001b[39mpup sniff\u001b[39m\u001b[39m'\u001b[39m, \u001b[39m'\u001b[39m\u001b[39mfemale intruder contact\u001b[39m\u001b[39m'\u001b[39m]\n",
      "\u001b[0;31mNameError\u001b[0m: name 'tuning_results' is not defined"
     ]
    }
   ],
   "source": [
    "print(tuning_results[tuning_results.Behaviour =='female nest contact'].Mouse.unique())\n",
    "IDs = ['JKAA40.3e', 'JKAA40.4i','JKAA40.4h', 'JKAA40.5d', 'JKAA44.2i']\n",
    "behaviour_pair = ['pup sniff', 'female intruder contact']\n",
    "states = ['virgin', 'PD18']\n",
    "tuning_results['Selectivity'] = np.NaN\n",
    "\n",
    "for state in states:\n",
    "    \n",
    "    tuning = tuning_results[(tuning_results.Behaviour == behaviour_pair[0]) &\n",
    "                            (tuning_results.State == state)]\n",
    "    substract = tuning_results[(tuning_results.Behaviour == behaviour_pair[1])&\n",
    "                             (tuning_results.State == state)]\n",
    "\n",
    "    for mouse in IDs:\n",
    "        \n",
    "        tuned = tuning[tuning.Mouse == mouse]\n",
    "        substracted = substract[substract.Mouse == mouse]\n",
    "        selectivity = tuned['Tuning'].abs() - substracted['Tuning'].abs()\n",
    "        \n",
    "        tuning_results.loc[(tuning_results.State == state) &\n",
    "                           (tuning_results.Mouse == mouse)&\n",
    "                           (tuning_results.Behaviour == behaviour_pair[0]), \n",
    "                           'Selectivity'] = selectivity\n",
    "       "
   ]
  },
  {
   "cell_type": "code",
   "execution_count": 15,
   "metadata": {},
   "outputs": [
    {
     "data": {
      "image/png": "[encoded data removed]",
      "text/plain": [
       "<Figure size 432x288 with 1 Axes>"
      ]
     },
     "metadata": {
      "needs_background": "light"
     },
     "output_type": "display_data"
    }
   ],
   "source": [
    "tuning_plot = tuning_results.dropna(subset = ['Selectivity'], inplace=False)\n",
    "\n",
    "_, p = stats.ttest_ind(tuning_plot[tuning_plot.State == 'virgin'].Selectivity, \n",
    "                       tuning_plot[tuning_plot.State == 'PD18'].Selectivity)\n",
    "\n",
    "sns.swarmplot(x = 'State', y='Selectivity', hue = 'Mouse', alpha = 0.6, data=tuning_results)\n",
    "plt.ylim(-1,1)\n",
    "plt.xlabel(\"\")\n",
    "plt.title(f'{behaviour_pair} - {p}')\n",
    "plt.savefig('tuning_selectivity' + f'{behaviour_pair}.png', dpi = 300)"
   ]
  },
  {
   "cell_type": "markdown",
   "metadata": {
    "tags": []
   },
   "source": [
    "## Selectivity based on Choice probability"
   ]
  },
  {
   "cell_type": "code",
   "execution_count": 31,
   "id": "fa8faaab",
   "metadata": {},
   "outputs": [],
   "source": [
    "selectivities =pd.DataFrame(columns = ['State', 'first_behaviour', 'first_activities' ,\n",
    "                                       'second_behaviour', 'second_activities', \n",
    "                                       'first_baseline', 'second_baseline', 'Mouse', 'Cell'])\n",
    "\n",
    "IDs = ['JKAA40.3e', 'JKAA40.4i', 'JKAA40.4h', 'JKAA40.5d', 'JKAA44.2i']\n",
    "\n",
    "num_episodes = {'pup sniff':1,\n",
    "                'male intruder contact':1} # female intruder contact / food pellet contact / screw contact / female nest contact / male intruder contact\n",
    "\n",
    "behaviour_pair = list(num_episodes.keys())\n",
    "\n",
    "states = ['virgin','PD18', 'PD50']\n",
    "\n",
    "fr = 20\n",
    "window = 3\n",
    "convolve = 'deconvolved'\n",
    "\n",
    "# build a activities dataset based on virgin & PD18 datasets\n",
    "\n",
    "for state in states:\n",
    "    \n",
    "    for ID in IDs:\n",
    "\n",
    "        try:\n",
    "        # if using only the first sniffing event to calculate choice probability\n",
    "            episodes = ga.extract_episodes(path, \n",
    "                                        state,\n",
    "                                        ID, \n",
    "                                        convolve,\n",
    "                                        window = window, \n",
    "                                        num_episodes = num_episodes,\n",
    "                                        skip_overlap = False)\n",
    "\n",
    "            \n",
    "        except FileNotFoundError:\n",
    "            warnings.warn(f'Recording {ID}_{state} was not found')\n",
    "            continue\n",
    "\n",
    "            \n",
    "        if episodes.empty:\n",
    "            continue\n",
    "       \n",
    "        else:\n",
    "            try:\n",
    "                # print(ID + state)\n",
    "        \n",
    "                num_cells = episodes[episodes.Behaviour == behaviour_pair[0]].Activities[0][0].shape[0]\n",
    "\n",
    "\n",
    "                selectivity = {}\n",
    "\n",
    "                selectivity['State'] = [state] * num_cells\n",
    "                selectivity['first_behaviour'] = [behaviour_pair[0]] * num_cells\n",
    "                selectivity['second_behaviour'] = [behaviour_pair[1]] * num_cells\n",
    "                selectivity['Mouse'] = [f'{ID}'] * num_cells\n",
    "                selectivity['Cell'] = np.arange(num_cells)\n",
    "\n",
    "                first_activities = episodes[episodes.Behaviour == behaviour_pair[0]].Activities[0][0][:,-window*fr:]\n",
    "                second_activities = episodes[episodes.Behaviour == behaviour_pair[1]].Activities[0][0][:,-window*fr:]\n",
    "\n",
    "                first_base = episodes[episodes.Behaviour == behaviour_pair[0]].Activities[0][0][:,:window*fr]\n",
    "                second_base = episodes[episodes.Behaviour == behaviour_pair[1]].Activities[0][0][:,:window*fr]\n",
    "\n",
    "\n",
    "                selectivity['first_activities'] = first_activities.tolist()\n",
    "                selectivity['second_activities'] = second_activities.tolist()\n",
    "                selectivity['first_baseline'] = first_base.tolist()\n",
    "                selectivity['second_baseline'] = second_base.tolist()\n",
    "                selectivity = pd.DataFrame(selectivity)\n",
    "                selectivities = pd.concat([selectivities, selectivity])\n",
    "                \n",
    "            except KeyError:\n",
    "                continue\n",
    "\n",
    "            "
   ]
  },
  {
   "cell_type": "code",
   "execution_count": 32,
   "id": "e325c8e1",
   "metadata": {},
   "outputs": [],
   "source": [
    "selectivities = selectivities.reset_index(drop = True)"
   ]
  },
  {
   "cell_type": "code",
   "execution_count": 33,
   "id": "62bd9b5d",
   "metadata": {
    "tags": []
   },
   "outputs": [],
   "source": [
    "selectivities = selectivities.reset_index(drop = True)\n",
    "\n",
    "for i in range(selectivities.shape[0]):\n",
    "    first_cell = selectivities.loc[i,'first_activities']\n",
    "    second_cell = selectivities.loc[i,'second_activities']\n",
    "    \n",
    "    cdf_first, bin_first = ga.cdf(first_cell)\n",
    "    cdf_second, bin_second = ga.cdf(second_cell)\n",
    "    \n",
    "    \n",
    "    cdf_first = np.nan_to_num(cdf_first)\n",
    "    cdf_second = np.nan_to_num(cdf_second)\n",
    "    \n",
    "    area = auc(cdf_second,cdf_first) \n",
    "    \n",
    "    behaviour = behaviour_pair[1].replace(' ', '_')\n",
    "    selectivities.loc[i, 'selectivity_auc'] = area"
   ]
  },
  {
   "cell_type": "code",
   "execution_count": 34,
   "id": "723aa50b",
   "metadata": {},
   "outputs": [],
   "source": [
    "# add column w/ 1-selectivity values so more positive is more selective in plot\n",
    "selectivities['selectivity_auc_inv'] = 1 - selectivities.selectivity_auc"
   ]
  },
  {
   "cell_type": "code",
   "execution_count": 35,
   "id": "2d5f74cd",
   "metadata": {},
   "outputs": [],
   "source": [
    "behaviour = behaviour_pair[1].replace(\" \", \"_\")\n",
    "\n",
    "behaviour = behaviour_pair[1].replace(\" \", \"_\")\n",
    "selectivities.to_csv(f'generated_dataset/selectivities_{behaviour}.csv')"
   ]
  },
  {
   "cell_type": "code",
   "execution_count": 36,
   "id": "7e527b15",
   "metadata": {
    "tags": []
   },
   "outputs": [
    {
     "name": "stdout",
     "output_type": "stream",
     "text": [
      "              Mixed Linear Model Regression Results\n",
      "=================================================================\n",
      "Model:            MixedLM Dependent Variable: selectivity_auc_inv\n",
      "No. Observations: 143     Method:             REML               \n",
      "No. Groups:       5       Scale:              0.1153             \n",
      "Min. group size:  7       Log-Likelihood:     -51.8778           \n",
      "Max. group size:  50      Converged:          Yes                \n",
      "Mean group size:  28.6                                           \n",
      "-------------------------------------------------------------------\n",
      "                 Coef.   Std.Err.     z     P>|z|   [0.025   0.975]\n",
      "-------------------------------------------------------------------\n",
      "Intercept        0.584      0.061   9.633   0.000    0.465    0.702\n",
      "State[T.PD50]    0.038      0.074   0.509   0.611   -0.107    0.183\n",
      "Group Var        0.000      0.011                                  \n",
      "=================================================================\n",
      "\n"
     ]
    }
   ],
   "source": [
    "state_df = selectivities[selectivities.State.isin(['PD50', 'PD18'])]\n",
    "# compute mixed effect statistics\n",
    "md = smf.mixedlm(\"selectivity_auc_inv ~ State\", state_df, groups=state_df[\"Mouse\"])\n",
    "mdf = md.fit(method=[\"lbfgs\"])\n",
    "print(mdf.summary())"
   ]
  },
  {
   "cell_type": "code",
   "execution_count": 9,
   "id": "4f2388fc",
   "metadata": {},
   "outputs": [
    {
     "data": {
      "text/plain": [
       "0"
      ]
     },
     "execution_count": 9,
     "metadata": {},
     "output_type": "execute_result"
    }
   ],
   "source": [
    "# selectivities\n",
    "len(selectivities[(selectivities['State'] == 'PD50') & (selectivities['first_behaviour'] == 'pup sniff') \n",
    "                  & (selectivities['second_behaviour'] == 'male intruder contact')])"
   ]
  },
  {
   "cell_type": "code",
   "execution_count": 10,
   "id": "88e269a8-203c-4035-861f-892b6c6c9ec1",
   "metadata": {
    "tags": []
   },
   "outputs": [
    {
     "data": {
      "image/png": "[encoded data removed]",
      "text/plain": [
       "<Figure size 144x216 with 1 Axes>"
      ]
     },
     "metadata": {
      "needs_background": "light"
     },
     "output_type": "display_data"
    }
   ],
   "source": [
    "fig, ax = plt.subplots(figsize = [2,3])\n",
    "sns.despine(bottom=True)\n",
    "sns.set(font_scale=2.1) \n",
    "sns.set_style(\"ticks\")\n",
    "# plt.title(behaviour_pair, pad=40)\n",
    "\n",
    "# Create the violin plot\n",
    "# ax = sns.violinplot(x='State', y='selectivity_auc_inv' ,data=selectivities,\n",
    "#                     palette = ['#0000ff', '#d7301f', 'gray'], \n",
    "#                     cut=0, scale = 'width')\n",
    "# plt.setp(ax.collections, alpha=.5)\n",
    "\n",
    "# # Modify the violin plot to be half\n",
    "# for violin in ax.collections:\n",
    "#     bbox = violin.get_paths()[0].get_extents()\n",
    "#     x0, y0, width, height = bbox.bounds\n",
    "#     violin.set_clip_path(plt.Rectangle((x0, y0), width / 2, height, transform=ax.transData))\n",
    "\n",
    "# Create the box plot\n",
    "sns.boxplot(x='State', y='selectivity_auc_inv' ,data=selectivities, \n",
    "            palette = ['#0000ff', '#d7301f', 'gray'], width = 0.4,\n",
    "            boxprops={'zorder': 3, 'facecolor': 'none'}, ax=ax)\n",
    "\n",
    "\n",
    "# Create the half stripplot\n",
    "sns.stripplot(x='State', y='selectivity_auc_inv' ,data=selectivities,alpha = 0.5, size = 4,\n",
    "                palette = ['#0000ff', '#d7301f', 'gray'],  dodge=True, ax=ax)\n",
    "\n",
    "  \n",
    "\n",
    "\n",
    "# Set the x-axis label, y-axis label, and tick labels\n",
    "ax.set_xlabel('')\n",
    "ax.set_ylabel('Selectivity (1-AUC)', labelpad=5)\n",
    "ax.set_xticklabels( ('', '', ''), rotation=45)\n",
    "\n",
    "# Set regular tick intervals and y-axis limits\n",
    "plt.tick_params(bottom=False)\n",
    "plt.ylim(0,1)\n",
    "ax.yaxis.set_major_locator(plt.MaxNLocator(2))\n",
    "\n",
    "# Save the figure\n",
    "plt.savefig(export_path + str(behaviour_pair) + '_selectivity.pdf', dpi=300, transparent=False, bbox_inches = \"tight\")\n",
    "\n",
    "plt.savefig(export_path + str(behaviour_pair) + '_selectivity.png', dpi=300, transparent=False, bbox_inches = \"tight\")"
   ]
  },
  {
   "cell_type": "markdown",
   "metadata": {
    "jp-MarkdownHeadingCollapsed": true,
    "tags": []
   },
   "source": [
    "## linear SVM based tuning"
   ]
  },
  {
   "cell_type": "code",
   "execution_count": null,
   "metadata": {},
   "outputs": [],
   "source": [
    "from sklearn import svm\n",
    "from sklearn.pipeline import make_pipeline\n",
    "from sklearn.preprocessing import StandardScaler\n",
    "from sklearn.datasets import make_classification\n",
    "from sklearn.model_selection import train_test_split\n",
    "from sklearn import metrics\n",
    "from sklearn.model_selection import cross_val_score\n",
    "from sklearn.model_selection import LeaveOneOut"
   ]
  },
  {
   "cell_type": "code",
   "execution_count": null,
   "metadata": {},
   "outputs": [],
   "source": [
    "IDs = ['JKAA40.3e', 'JKAA40.4i','JKAA40.4h', 'JKAA40.5d', 'JKAA44.2i']\n",
    "behaviour_pair = ['pup sniff', 'female intruder contact']\n",
    "num_episodes = {'pup sniff':1,\n",
    "                'female intruder contact':1}\n",
    "\n",
    "states = [ 'virgin','PD18']\n",
    "\n",
    "fr = 20\n",
    "window = 3\n",
    "convolve = 'deconvolved'\n",
    "\n",
    "# build a activities dataset based on virgin & PD18 datasets\n",
    "activities =  np.empty([0, fr * window])\n",
    "y = np.empty([0])\n",
    "\n",
    "for state in states:\n",
    "    \n",
    "\n",
    "    for ID in IDs:\n",
    "\n",
    "\n",
    "        try:\n",
    "            episodes = extract_episodes(path, \n",
    "                                        state,\n",
    "                                        ID, \n",
    "                                        convolve,\n",
    "                                        window = window, \n",
    "                                        num_episodes = num_episodes,\n",
    "                                        skip_overlap = False)\n",
    "\n",
    "            \n",
    "\n",
    "\n",
    "        except FileNotFoundError:\n",
    "            warnings.warn(f'Recording {ID}_{state} was not found')\n",
    "\n",
    "\n",
    "\n",
    "        for behav in behaviour_pair:\n",
    "            try:\n",
    "            \n",
    "                num_cells = episodes[behav].shape[1]\n",
    "                \n",
    "            \n",
    "            except KeyError:\n",
    "                break\n",
    "            \n",
    "            \n",
    "            if behav == behaviour_pair[0]:\n",
    "                \n",
    "                y = np.concatenate([y,np.ones(num_cells)], axis = 0)\n",
    "                \n",
    "            else:\n",
    "                \n",
    "                y = np.concatenate([y,np.zeros(num_cells)], axis = 0)\n",
    "\n",
    "                \n",
    "            if episodes == []:\n",
    "                break\n",
    "\n",
    "            else:\n",
    "                try:\n",
    "\n",
    "                    #num_cells = episodes[behav].shape[0]\n",
    "                    scores = {}\n",
    "                    \n",
    "                    \n",
    "                    activities = np.concatenate([activities, episodes[behav][0]], axis = 0) \n",
    "                    \n",
    "                    \n",
    "                except TypeError:\n",
    "                    pass\n",
    "            "
   ]
  },
  {
   "cell_type": "code",
   "execution_count": null,
   "metadata": {},
   "outputs": [],
   "source": [
    "episodes['pup sniff'].shape"
   ]
  },
  {
   "cell_type": "code",
   "execution_count": null,
   "metadata": {},
   "outputs": [],
   "source": [
    "fig, ax = plt.subplots(figsize=[10, 25])\n",
    "fig.tight_layout()\n",
    "\n",
    "\n",
    "ax.imshow(activities, aspect='auto', cmap='magma')\n",
    "ax.set_frame_on(False)\n",
    "ax.set_xticks(np.arange(0, activities.shape[1],  60* fr))\n",
    "ax.set_xticklabels(np.arange(0, activities.shape[1], 60*fr) // (60 * fr))\n",
    "ax.set_xlabel('Time (s)')\n",
    "ax.set_ylabel('Cell #')"
   ]
  },
  {
   "cell_type": "code",
   "execution_count": null,
   "metadata": {},
   "outputs": [],
   "source": [
    "y.shape"
   ]
  },
  {
   "cell_type": "code",
   "execution_count": null,
   "metadata": {},
   "outputs": [],
   "source": [
    "for i in range(int(activities.shape[1]/5)):\n",
    "    activity = activities[:,i:i+5].reshape(-1, 5)\n",
    "\n",
    "    # Split dataset into training set and test set\n",
    "    X_train, X_test, y_train, y_test = train_test_split(activity, y, \n",
    "                                                        test_size=0.1,random_state=20) \n",
    "    clf = svm.SVC(kernel='linear', C = 0.5)\n",
    "    cv = LeaveOneOut()\n",
    "\n",
    "    clf.fit(X_train, y_train)\n",
    "    scores = cross_val_score(clf,X_train, y_train, cv=5)\n",
    "    print(scores.mean())\n",
    "    y_pred = clf.predict(X_test)\n",
    "\n",
    "    accuracies = metrics.accuracy_score(y_test, y_pred)\n",
    "    #print(accuracies)"
   ]
  },
  {
   "cell_type": "code",
   "execution_count": null,
   "metadata": {},
   "outputs": [],
   "source": [
    "fig, ax = plt.subplots(figsize = [10,20])\n",
    "pd.Series(clf.coef_[0]).nlargest(50).plot(kind='barh')\n",
    "print(clf.coef_[0].size)"
   ]
  },
  {
   "cell_type": "code",
   "execution_count": null,
   "metadata": {},
   "outputs": [],
   "source": [
    "history = 1\n",
    "neuron = 5\n",
    "with_self = False\n",
    "with_time = True\n",
    "\n",
    "X = np.array([])\n",
    "\n",
    "for n, behav in enumerate(bdf.columns):\n",
    "\n",
    "    regressor = ga.make_design_matrix(bdf[behav], history = history)\n",
    "    \n",
    "    if n == 0:\n",
    "        X = regressor\n",
    "        \n",
    "    else:\n",
    "        X = np.hstack((X, regressor))\n",
    "\n",
    "extra_regressors = 0\n",
    "if with_time:\n",
    "    \n",
    "    X = np.hstack((X, np.arange(bdf.shape[0]).reshape(-1,1)))\n",
    "    \n",
    "    extra_regressors += 1\n",
    "\n",
    "if with_self:\n",
    "# Add neuron self history as regressor\n",
    "\n",
    "    regressor = ga.make_design_matrix(df[neuron], history = history)\n",
    "\n",
    "    X = np.hstack((X, regressor))\n",
    "    extra_regressors += 1\n",
    "\n",
    "    \n",
    "\n",
    "model = Ridge(alpha = 0, \n",
    "              max_iter = 2500,\n",
    "              normalize = True)\n",
    "\n",
    "model.fit(X, df[neuron])\n",
    "\n",
    "labels = list(bdf.columns) + ['Time'] + ['Self']\n",
    "for n, behav in enumerate(np.split(model.coef_, len(bdf.columns) + extra_regressors)):\n",
    "    plt.plot(behav, label = labels[n])\n",
    "    \n",
    "plt.legend()\n",
    "\n",
    "print('Explained variance %: ' + str(metrics.explained_variance_score(df[neuron], model.predict(X), multioutput='raw_values')[0] * 100))"
   ]
  },
  {
   "cell_type": "code",
   "execution_count": null,
   "metadata": {},
   "outputs": [],
   "source": [
    "plt.figure(figsize=[10,4])\n",
    "\n",
    "plt.plot(df[neuron], label= 'Raw activity')\n",
    "plt.plot(model.predict(X), label = 'Model prediction')\n",
    "plt.plot(df[neuron] - model.predict(X), label = 'Model error')\n",
    "\n",
    "plt.legend()\n",
    "\n",
    "plt.ylabel('dF/F')\n",
    "plt.xlabel('Time (min)')"
   ]
  },
  {
   "cell_type": "markdown",
   "metadata": {},
   "source": [
    "### Tuning to shuffled calcium data"
   ]
  },
  {
   "cell_type": "code",
   "execution_count": null,
   "metadata": {},
   "outputs": [],
   "source": [
    "path = '/Volumes/lab-kohlj/home/users/borakn/Data/'\n",
    "\n",
    "df = load_inscopix(path + '/Inscopix/C00547699_dom_baseline_RI_male.csv')\n",
    "\n",
    "_, bdf, _ = preprocess_behaviour(path + '/Behaviour/Inscopix/C00547699_dom_baseline_RI_male.csv', df.shape[1])"
   ]
  },
  {
   "cell_type": "code",
   "execution_count": null,
   "metadata": {},
   "outputs": [],
   "source": [
    "for n, cell in enumerate(df):\n",
    "    np.random.shuffle(df[n])\n",
    "\n",
    "shuffled_aucs = {}\n",
    "for behav in bdf.columns[1:]:\n",
    "    \n",
    "    shuffled_aucs[behav] = estimate_tuning(df, bdf, behav, remove_nontarget = False, subtract_shuffled_tuning=False)\n",
    "    \n",
    "shuffled_aucs = pd.DataFrame(shuffled_aucs)"
   ]
  },
  {
   "cell_type": "code",
   "execution_count": null,
   "metadata": {},
   "outputs": [],
   "source": [
    "%matplotlib widget\n",
    "\n",
    "plt.figure()\n",
    "plt.hist(shuffled_aucs, color=['C1', 'C2', 'C3'])\n",
    "plt.ylabel('Frequency')\n",
    "plt.xlabel('Tuning to shuffled calcium data')\n",
    "plt.legend(shuffled_aucs.columns)\n",
    "\n",
    "# plt.savefig('/Users/borakn/Documents/PhD/Plots/GRIN/shuffled_tuning_histogram.png', dpi=600)"
   ]
  },
  {
   "cell_type": "markdown",
   "metadata": {
    "tags": []
   },
   "source": [
    "## visualisation for selectivities based on choice probability"
   ]
  },
  {
   "cell_type": "code",
   "execution_count": 12,
   "id": "a2512ac9",
   "metadata": {},
   "outputs": [
    {
     "data": {
      "image/png": "[encoded data removed]",
      "text/plain": [
       "<Figure size 216x288 with 2 Axes>"
      ]
     },
     "metadata": {},
     "output_type": "display_data"
    },
    {
     "data": {
      "image/png": "[encoded data removed]",
      "text/plain": [
       "<Figure size 216x288 with 2 Axes>"
      ]
     },
     "metadata": {},
     "output_type": "display_data"
    }
   ],
   "source": [
    "fb = np.array(list(selectivities[selectivities.selectivity_auc_inv == 1].first_baseline))\n",
    "fa = np.array(list(selectivities[selectivities.selectivity_auc_inv == 1].first_activities))\n",
    "first = np.concatenate([fb,fa],axis = 1)[:5]\n",
    "\n",
    "sb = np.array(list(selectivities[selectivities.selectivity_auc_inv == 1].second_baseline))\n",
    "sa = np.array(list(selectivities[selectivities.selectivity_auc_inv == 1].second_activities))\n",
    "second = np.concatenate([sb,sa],axis = 1)[:5]\n",
    "\n",
    "fig = ga.plot_amplitude(first, 'pup', 'viridis',clustering = False)\n",
    "fig = ga.plot_amplitude(second, 'others', 'viridis',clustering = False)\n"
   ]
  },
  {
   "cell_type": "code",
   "execution_count": 13,
   "id": "ea645702",
   "metadata": {},
   "outputs": [
    {
     "ename": "TypeError",
     "evalue": "plot_amplitude() missing 1 required positional argument: 'cmap'",
     "output_type": "error",
     "traceback": [
      "\u001b[0;31m---------------------------------------------------------------------------\u001b[0m",
      "\u001b[0;31mTypeError\u001b[0m                                 Traceback (most recent call last)",
      "\u001b[0;32m/tmp/ipykernel_33559/4217116167.py\u001b[0m in \u001b[0;36m<module>\u001b[0;34m\u001b[0m\n\u001b[1;32m      8\u001b[0m \u001b[0;34m\u001b[0m\u001b[0m\n\u001b[1;32m      9\u001b[0m \u001b[0;34m\u001b[0m\u001b[0m\n\u001b[0;32m---> 10\u001b[0;31m \u001b[0mfig\u001b[0m \u001b[0;34m=\u001b[0m \u001b[0mga\u001b[0m\u001b[0;34m.\u001b[0m\u001b[0mplot_amplitude\u001b[0m\u001b[0;34m(\u001b[0m\u001b[0mfirst\u001b[0m\u001b[0;34m,\u001b[0m \u001b[0;34m'pup'\u001b[0m\u001b[0;34m,\u001b[0m \u001b[0mclustering\u001b[0m \u001b[0;34m=\u001b[0m \u001b[0;32mFalse\u001b[0m\u001b[0;34m)\u001b[0m\u001b[0;34m\u001b[0m\u001b[0;34m\u001b[0m\u001b[0m\n\u001b[0m\u001b[1;32m     11\u001b[0m \u001b[0mfig\u001b[0m \u001b[0;34m=\u001b[0m \u001b[0mga\u001b[0m\u001b[0;34m.\u001b[0m\u001b[0mplot_amplitude\u001b[0m\u001b[0;34m(\u001b[0m\u001b[0msecond\u001b[0m\u001b[0;34m,\u001b[0m \u001b[0;34m'others'\u001b[0m\u001b[0;34m,\u001b[0m \u001b[0mclustering\u001b[0m \u001b[0;34m=\u001b[0m \u001b[0;32mFalse\u001b[0m\u001b[0;34m)\u001b[0m\u001b[0;34m\u001b[0m\u001b[0;34m\u001b[0m\u001b[0m\n",
      "\u001b[0;31mTypeError\u001b[0m: plot_amplitude() missing 1 required positional argument: 'cmap'"
     ]
    }
   ],
   "source": [
    "fb = np.array(list(selectivities[selectivities.selectivity_auc_inv == 0].first_baseline))\n",
    "fa = np.array(list(selectivities[selectivities.selectivity_auc_inv == 0].first_activities))\n",
    "first = np.concatenate([fb,fa],axis = 1)[:5]\n",
    "\n",
    "sb = np.array(list(selectivities[selectivities.selectivity_auc_inv == 0].second_baseline))\n",
    "sa = np.array(list(selectivities[selectivities.selectivity_auc_inv == 0].second_activities))\n",
    "second = np.concatenate([sb,sa],axis = 1)[:5]\n",
    "\n",
    "\n",
    "fig = ga.plot_amplitude(first, 'pup', clustering = False)\n",
    "fig = ga.plot_amplitude(second, 'others', clustering = False)\n"
   ]
  },
  {
   "cell_type": "code",
   "execution_count": null,
   "metadata": {},
   "outputs": [],
   "source": []
  }
 ],
 "metadata": {
  "kernelspec": {
   "display_name": "Python 3",
   "language": "python",
   "name": "python3"
  },
  "language_info": {
   "codemirror_mode": {
    "name": "ipython",
    "version": 3
   },
   "file_extension": ".py",
   "mimetype": "text/x-python",
   "name": "python",
   "nbconvert_exporter": "python",
   "pygments_lexer": "ipython3",
   "version": "3.10.9"
  },
  "toc-autonumbering": false,
  "toc-showmarkdowntxt": true
 },
 "nbformat": 4,
 "nbformat_minor": 5
}
